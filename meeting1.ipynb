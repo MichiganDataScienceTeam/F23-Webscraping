{
 "cells": [
  {
   "cell_type": "markdown",
   "metadata": {},
   "source": [
    "## Meeting 1 Introduction to BeautifulSoup  \n",
    "\n",
    "Welcome to webscraping! We will start by introducting BeautifulSoup, a python package made for making webscraping easy.  \n",
    "\n",
    "\n",
    "We will be introducting some basic concepts by scraping https://quotes.toscrape.com\n",
    "\n",
    "Link to BeautifulSoup documentation:\n",
    "https://www.crummy.com/software/BeautifulSoup/bs4/doc/"
   ]
  },
  {
   "cell_type": "code",
   "execution_count": 2,
   "metadata": {},
   "outputs": [
    {
     "ename": "ModuleNotFoundError",
     "evalue": "No module named 'bs4'",
     "output_type": "error",
     "traceback": [
      "\u001b[1;31m---------------------------------------------------------------------------\u001b[0m",
      "\u001b[1;31mModuleNotFoundError\u001b[0m                       Traceback (most recent call last)",
      "\u001b[1;32m~\\AppData\\Local\\Temp/ipykernel_28252/2801538188.py\u001b[0m in \u001b[0;36m<module>\u001b[1;34m\u001b[0m\n\u001b[1;32m----> 1\u001b[1;33m \u001b[1;32mfrom\u001b[0m \u001b[0mbs4\u001b[0m \u001b[1;32mimport\u001b[0m \u001b[0mBeautifulSoup\u001b[0m\u001b[1;33m\u001b[0m\u001b[1;33m\u001b[0m\u001b[0m\n\u001b[0m\u001b[0;32m      2\u001b[0m \u001b[1;32mimport\u001b[0m \u001b[0mrequests\u001b[0m\u001b[1;33m\u001b[0m\u001b[1;33m\u001b[0m\u001b[0m\n\u001b[0;32m      3\u001b[0m \u001b[1;33m\u001b[0m\u001b[0m\n\u001b[0;32m      4\u001b[0m \u001b[1;33m\u001b[0m\u001b[0m\n\u001b[0;32m      5\u001b[0m \u001b[1;32mdef\u001b[0m \u001b[0mgetSoup\u001b[0m\u001b[1;33m(\u001b[0m\u001b[0murl\u001b[0m\u001b[1;33m:\u001b[0m \u001b[0mstr\u001b[0m\u001b[1;33m)\u001b[0m \u001b[1;33m->\u001b[0m \u001b[0mBeautifulSoup\u001b[0m\u001b[1;33m:\u001b[0m\u001b[1;33m\u001b[0m\u001b[1;33m\u001b[0m\u001b[0m\n",
      "\u001b[1;31mModuleNotFoundError\u001b[0m: No module named 'bs4'"
     ]
    }
   ],
   "source": [
    "from bs4 import BeautifulSoup\n",
    "import requests\n",
    "\n",
    "\n",
    "def getSoup(url: str) -> BeautifulSoup:\n",
    "    page = requests.get(url)\n",
    "    bs = BeautifulSoup(page.content, \"html.parser\")\n",
    "    page.close()\n",
    "    \n",
    "    return bs\n",
    "\n",
    "page=\"https://quotes.toscrape.com\"\n",
    "\n",
    "soup = getSoup(page)\n",
    "print(soup.prettify())"
   ]
  },
  {
   "cell_type": "markdown",
   "metadata": {},
   "source": [
    "## Navigating to a specific Element\n",
    "https://www.crummy.com/software/BeautifulSoup/bs4/doc/#navigating-the-tree\n",
    "\n",
    "A beautifulSoup object contains the entire HTML tree you see when you inspect element on the browser (and maybe some extra stuff I don't even know about).\n",
    "\n",
    "#### Exercise 1: Grab the title \n",
    "Grab and print the website title \"Quotes to Scrape\" by navigating the HTML tree.\n",
    "\n",
    "\n",
    "The answer for this simple exercise should be an ugly, hardcoded list of HTML attributes."
   ]
  },
  {
   "cell_type": "code",
   "execution_count": null,
   "metadata": {},
   "outputs": [
    {
     "data": {
      "text/plain": [
       "'Quotes to Scrape'"
      ]
     },
     "execution_count": 47,
     "metadata": {},
     "output_type": "execute_result"
    }
   ],
   "source": [
    "\n",
    "soup.some_tags.some_more_tags.text"
   ]
  },
  {
   "cell_type": "markdown",
   "metadata": {},
   "source": [
    "## Searching the Tree\n",
    "https://www.crummy.com/software/BeautifulSoup/bs4/doc/#searching-the-tree\n",
    "\n",
    "As you saw, that was pretty ugly. Typing those long statements to get an element won't scale when we deal with bigger, more complicated websites.\n",
    "\n",
    "#### Exercise 2: Search for the title\n",
    "Do the same as above but using a filter to grab that specific element (remove the .text from your solution to see what type it is)"
   ]
  },
  {
   "cell_type": "code",
   "execution_count": null,
   "metadata": {},
   "outputs": [
    {
     "data": {
      "text/plain": [
       "'Quotes to Scrape'"
      ]
     },
     "execution_count": 52,
     "metadata": {},
     "output_type": "execute_result"
    }
   ],
   "source": [
    "# maybe there is a function for \"find\"ing things"
   ]
  },
  {
   "cell_type": "markdown",
   "metadata": {},
   "source": [
    "## Scraping similar elements\n",
    "\n",
    "There is only one title on this page, but in practice we usually are targeting data which repeats in some pattern.\n",
    "\n",
    "#### Exercise 3: Print all the quotes  \n",
    "Scrape all the quotes on the first page of this website and print them without the quotation character at the beginning/end."
   ]
  },
  {
   "cell_type": "code",
   "execution_count": 54,
   "metadata": {},
   "outputs": [
    {
     "name": "stdout",
     "output_type": "stream",
     "text": [
      "The world as we have created it is a process of our thinking. It cannot be changed without changing our thinking.\n",
      "It is our choices, Harry, that show what we truly are, far more than our abilities.\n",
      "There are only two ways to live your life. One is as though nothing is a miracle. The other is as though everything is a miracle.\n",
      "The person, be it gentleman or lady, who has not pleasure in a good novel, must be intolerably stupid.\n",
      "Imperfection is beauty, madness is genius and it's better to be absolutely ridiculous than absolutely boring.\n",
      "Try not to become a man of success. Rather become a man of value.\n",
      "It is better to be hated for what you are than to be loved for what you are not.\n",
      "I have not failed. I've just found 10,000 ways that won't work.\n",
      "A woman is like a tea bag; you never know how strong it is until it's in hot water.\n",
      "A day without sunshine is like, you know, night.\n"
     ]
    }
   ],
   "source": [
    "all_quotes = []\n",
    "for quote in all_quotes:\n",
    "    print(quote)"
   ]
  },
  {
   "cell_type": "markdown",
   "metadata": {},
   "source": [
    "## Python: Creating Better Functions  \n",
    "\n",
    "We found a pattern! Each quote has a class=\"text\" attribute. But, is scraping the quotes directly using this pattern the best thing? Well, maybe.  \n",
    "\n",
    "It might not be if we want to scrape other data from each tile on the page.\n",
    "\n",
    "#### Exercise 4: Write a function to scrape a tile  \n",
    "Each quote is contained in a tile which holds information about the author and some tags that relate to the quote.  \n",
    "Create a function "
   ]
  },
  {
   "cell_type": "code",
   "execution_count": 57,
   "metadata": {},
   "outputs": [
    {
     "name": "stdout",
     "output_type": "stream",
     "text": [
      "('The world as we have created it is a process of our thinking. It cannot be changed without changing our thinking.', 'Albert Einstein', <generator object scrape_tile.<locals>.<genexpr> at 0x7ff8368a5700>)\n",
      "('It is our choices, Harry, that show what we truly are, far more than our abilities.', 'J.K. Rowling', <generator object scrape_tile.<locals>.<genexpr> at 0x7ff83698f060>)\n",
      "('There are only two ways to live your life. One is as though nothing is a miracle. The other is as though everything is a miracle.', 'Albert Einstein', <generator object scrape_tile.<locals>.<genexpr> at 0x7ff8368a5700>)\n",
      "('The person, be it gentleman or lady, who has not pleasure in a good novel, must be intolerably stupid.', 'Jane Austen', <generator object scrape_tile.<locals>.<genexpr> at 0x7ff83698f060>)\n",
      "(\"Imperfection is beauty, madness is genius and it's better to be absolutely ridiculous than absolutely boring.\", 'Marilyn Monroe', <generator object scrape_tile.<locals>.<genexpr> at 0x7ff8368a5700>)\n",
      "('Try not to become a man of success. Rather become a man of value.', 'Albert Einstein', <generator object scrape_tile.<locals>.<genexpr> at 0x7ff83698f060>)\n",
      "('It is better to be hated for what you are than to be loved for what you are not.', 'André Gide', <generator object scrape_tile.<locals>.<genexpr> at 0x7ff8368a5700>)\n",
      "(\"I have not failed. I've just found 10,000 ways that won't work.\", 'Thomas A. Edison', <generator object scrape_tile.<locals>.<genexpr> at 0x7ff8368a4e40>)\n",
      "(\"A woman is like a tea bag; you never know how strong it is until it's in hot water.\", 'Eleanor Roosevelt', <generator object scrape_tile.<locals>.<genexpr> at 0x7ff8368a5700>)\n",
      "('A day without sunshine is like, you know, night.', 'Steve Martin', <generator object scrape_tile.<locals>.<genexpr> at 0x7ff8368a4e40>)\n"
     ]
    }
   ],
   "source": [
    "from bs4 import Tag\n",
    "def scrape_tile(tile: Tag) -> tuple[str, str, list[str]]:\n",
    "    # print(tile.prettify())\n",
    "    \n",
    "    quote = \"\"\n",
    "    author = \"\"\n",
    "    tags = []\n",
    "\n",
    "    return (quote, author, tags)\n",
    "\n",
    "all_divs = [] # find what represents the tiles\n",
    "\n",
    "for div in all_divs:\n",
    "    data = scrape_tile(div)\n",
    "    print(data)\n"
   ]
  },
  {
   "cell_type": "markdown",
   "metadata": {},
   "source": [
    "## You did it.\n",
    "\n",
    "Now write the code for and combining the data into a pandas dataframe, or JSON object.\n",
    "\n",
    "After you're done. You've completed a baby-version of what we will be doing in this project."
   ]
  },
  {
   "cell_type": "code",
   "execution_count": null,
   "metadata": {},
   "outputs": [],
   "source": [
    "# something"
   ]
  }
 ],
 "metadata": {
  "kernelspec": {
   "display_name": "myEnv",
   "language": "python",
   "name": "python3"
  },
  "language_info": {
   "codemirror_mode": {
    "name": "ipython",
    "version": 3
   },
   "file_extension": ".py",
   "mimetype": "text/x-python",
   "name": "python",
   "nbconvert_exporter": "python",
   "pygments_lexer": "ipython3",
   "version": "3.9.7"
  },
  "orig_nbformat": 4
 },
 "nbformat": 4,
 "nbformat_minor": 2
}
