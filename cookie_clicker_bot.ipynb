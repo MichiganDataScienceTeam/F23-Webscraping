{
 "cells": [
  {
   "cell_type": "code",
   "execution_count": 1,
   "metadata": {},
   "outputs": [],
   "source": [
    "from selenium import webdriver\n",
    "from selenium.webdriver.common.action_chains import ActionChains\n",
    "from selenium.webdriver.common.by import By\n",
    "from selenium.webdriver.support.ui import WebDriverWait\n",
    "from selenium.webdriver.support import expected_conditions as EC\n",
    "\n",
    "driver = webdriver.Chrome()\n",
    "driver.maximize_window()"
   ]
  },
  {
   "cell_type": "markdown",
   "metadata": {},
   "source": [
    "##### **Step 1)**\n",
    "Before we get to click on the big coookie... \n",
    "\n",
    "#### **IMPORTANT** \n",
    "there is a slight issue...\n",
    "If you load up the site in your browser, you may notice that, there is a brief loading screen and then an unavoidable language selection popup. This is problematic for us because after you select your language, the site reloads once or twice, breaking the code. \n",
    "\n",
    "If anyone knows how to cross this issue and make the program run without human intervention, let us know. Otherwise, you may start the webdriver and just manually run each cell (See Step 3).\n",
    "\n",
    "TL;DR: Because of skill issue, start webdriver, manually click on all popups, and then manually run every cell starting at Step 3."
   ]
  },
  {
   "cell_type": "markdown",
   "metadata": {},
   "source": [
    "##### **Step 2)**\n",
    "**A Refresher From Last Time** \\\n",
    "Q: What is implicitly_wait? \\\n",
    "A: Sets a global setting to wait up to N seconds whenever anything you are are looking for does not yet exist\n",
    "\n",
    "Q: What is WebDriverWait? \\\n",
    "A: Makes the webdriver wait until condition.\n",
    "\n",
    "**New Stuff** \\\n",
    "Q: What is EC and presence_of_element_located? \\\n",
    "A: Searches for element with:\n",
    "- Locator (e.g. CLASS_NAME, ID, NAME, XPATH, etc.)\n",
    "- Value (what value the locator has)"
   ]
  },
  {
   "cell_type": "markdown",
   "metadata": {},
   "source": [
    "##### **Step 3)**\n",
    "**When you finish loading in / selecting language, rerun every cell from HERE to the bottom (except for driver.quit())**"
   ]
  },
  {
   "cell_type": "code",
   "execution_count": 2,
   "metadata": {},
   "outputs": [],
   "source": [
    "driver.implicitly_wait(10)\n",
    "driver.get(\"https://orteil.dashnet.org/cookieclicker/\")\n",
    "\n",
    "# Backup site T_T\n",
    "#driver.get(\"https://sites.google.com/site/classroom6x/cookie-clicker\")\n",
    "\n",
    "# We use this to create multiple actions and execute them at once (down below)\n",
    "actions = ActionChains(driver)"
   ]
  },
  {
   "cell_type": "code",
   "execution_count": 3,
   "metadata": {},
   "outputs": [
    {
     "ename": "SyntaxError",
     "evalue": "invalid syntax (930666838.py, line 5)",
     "output_type": "error",
     "traceback": [
      "\u001b[0;36m  Cell \u001b[0;32mIn[3], line 5\u001b[0;36m\u001b[0m\n\u001b[0;31m    EC.presence_of_element_located((By.\" WriteLocatorName \", \" WriteValue \"))\u001b[0m\n\u001b[0m                                       ^\u001b[0m\n\u001b[0;31mSyntaxError\u001b[0m\u001b[0;31m:\u001b[0m invalid syntax\n"
     ]
    }
   ],
   "source": [
    "# TODO: Replace the text with whatever the Locator/Values are (also remove quotations):\n",
    "\n",
    "# HINT: The Big Spinning Cooookie\n",
    "cookie = WebDriverWait(driver, 25).until(\n",
    "    EC.presence_of_element_located((By.\" WriteLocatorName \", \" WriteValue \"))\n",
    ")\n",
    "\n",
    "# HINT: How do we track the number of cookies we have\n",
    "cookie_count = WebDriverWait(driver, 25).until(\n",
    "    EC.presence_of_element_located((By.\" WriteLocatorName2 \", \" WriteValue2 \"))\n",
    ")\n"
   ]
  },
  {
   "cell_type": "markdown",
   "metadata": {},
   "source": [
    "**Identifying and Buying Upgrades:** \\\n",
    "What are the parameters of range() ? \n",
    "- range(start, stop, step)\n",
    "\n",
    "We set the parameters of range() to 1, -1, -1 instead of  0, 1, 1 \n",
    "because we want to buy the most expensive (A.K.A. best) upgrades first. \n",
    "\n",
    "Otherwise, we will always buy the worse upgrades until they gradually overprice the next tier (not optimal).\n"
   ]
  },
  {
   "cell_type": "code",
   "execution_count": null,
   "metadata": {},
   "outputs": [],
   "source": [
    "# TODO: Replace the text with the price of the production method (also remove quotations).\n",
    "# HINT: Click on the \"...\" to reveal more hidden lines until you find something related to price.\n",
    "\n",
    "items = [driver.find_element(By.ID, \" WritePriceValueHere \" + str(i)) for i in range(1, -1, -1)]"
   ]
  },
  {
   "cell_type": "code",
   "execution_count": null,
   "metadata": {},
   "outputs": [
    {
     "ename": "StaleElementReferenceException",
     "evalue": "Message: stale element reference: stale element not found\n  (Session info: chrome=117.0.5938.149); For documentation on this error, please visit: https://www.selenium.dev/documentation/webdriver/troubleshooting/errors#stale-element-reference-exception\nStacktrace:\n#0 0x55c1f2ebd933 <unknown>\n#1 0x55c1f2b976f7 <unknown>\n#2 0x55c1f2ba5419 <unknown>\n#3 0x55c1f2b9cb54 <unknown>\n#4 0x55c1f2b9b76b <unknown>\n#5 0x55c1f2b9ded0 <unknown>\n#6 0x55c1f2b9df8c <unknown>\n#7 0x55c1f2bd9452 <unknown>\n#8 0x55c1f2c00602 <unknown>\n#9 0x55c1f2bd4446 <unknown>\n#10 0x55c1f2c007ce <unknown>\n#11 0x55c1f2c19857 <unknown>\n#12 0x55c1f2c003d3 <unknown>\n#13 0x55c1f2bd2e64 <unknown>\n#14 0x55c1f2bd3c4e <unknown>\n#15 0x55c1f2e83558 <unknown>\n#16 0x55c1f2e874a0 <unknown>\n#17 0x55c1f2e9197c <unknown>\n#18 0x55c1f2e880b8 <unknown>\n#19 0x55c1f2e53cdf <unknown>\n#20 0x55c1f2eac048 <unknown>\n#21 0x55c1f2eac219 <unknown>\n#22 0x55c1f2ebcac3 <unknown>\n#23 0x7fbe50ca2ac3 <unknown>\n",
     "output_type": "error",
     "traceback": [
      "\u001b[0;31m---------------------------------------------------------------------------\u001b[0m",
      "\u001b[0;31mStaleElementReferenceException\u001b[0m            Traceback (most recent call last)",
      "\u001b[1;32m/home/zenneth/MDST/webscraping23/F23-Webscraping/cookie_clicker_bot.ipynb Cell 8\u001b[0m line \u001b[0;36m1\n\u001b[1;32m      <a href='vscode-notebook-cell://wsl%2Bubuntu/home/zenneth/MDST/webscraping23/F23-Webscraping/cookie_clicker_bot.ipynb#X11sdnNjb2RlLXJlbW90ZQ%3D%3D?line=6'>7</a>\u001b[0m actions\u001b[39m.\u001b[39mperform()\n\u001b[1;32m      <a href='vscode-notebook-cell://wsl%2Bubuntu/home/zenneth/MDST/webscraping23/F23-Webscraping/cookie_clicker_bot.ipynb#X11sdnNjb2RlLXJlbW90ZQ%3D%3D?line=8'>9</a>\u001b[0m \u001b[39m# finds number of cookies, \u001b[39;00m\n\u001b[1;32m     <a href='vscode-notebook-cell://wsl%2Bubuntu/home/zenneth/MDST/webscraping23/F23-Webscraping/cookie_clicker_bot.ipynb#X11sdnNjb2RlLXJlbW90ZQ%3D%3D?line=9'>10</a>\u001b[0m \u001b[39m# splits by [space] and accesses the first value after.\u001b[39;00m\n\u001b[0;32m---> <a href='vscode-notebook-cell://wsl%2Bubuntu/home/zenneth/MDST/webscraping23/F23-Webscraping/cookie_clicker_bot.ipynb#X11sdnNjb2RlLXJlbW90ZQ%3D%3D?line=10'>11</a>\u001b[0m count \u001b[39m=\u001b[39m cookie_count\u001b[39m.\u001b[39;49mtext\u001b[39m.\u001b[39msplit(\u001b[39m\"\u001b[39m\u001b[39m \u001b[39m\u001b[39m\"\u001b[39m)[\u001b[39m0\u001b[39m]\n\u001b[1;32m     <a href='vscode-notebook-cell://wsl%2Bubuntu/home/zenneth/MDST/webscraping23/F23-Webscraping/cookie_clicker_bot.ipynb#X11sdnNjb2RlLXJlbW90ZQ%3D%3D?line=12'>13</a>\u001b[0m \u001b[39m# upgrades\u001b[39;00m\n\u001b[1;32m     <a href='vscode-notebook-cell://wsl%2Bubuntu/home/zenneth/MDST/webscraping23/F23-Webscraping/cookie_clicker_bot.ipynb#X11sdnNjb2RlLXJlbW90ZQ%3D%3D?line=13'>14</a>\u001b[0m \u001b[39mfor\u001b[39;00m item \u001b[39min\u001b[39;00m items:\n",
      "File \u001b[0;32m~/.local/lib/python3.10/site-packages/selenium/webdriver/remote/webelement.py:89\u001b[0m, in \u001b[0;36mWebElement.text\u001b[0;34m(self)\u001b[0m\n\u001b[1;32m     86\u001b[0m \u001b[39m@property\u001b[39m\n\u001b[1;32m     87\u001b[0m \u001b[39mdef\u001b[39;00m \u001b[39mtext\u001b[39m(\u001b[39mself\u001b[39m) \u001b[39m-\u001b[39m\u001b[39m>\u001b[39m \u001b[39mstr\u001b[39m:\n\u001b[1;32m     88\u001b[0m \u001b[39m    \u001b[39m\u001b[39m\"\"\"The text of the element.\"\"\"\u001b[39;00m\n\u001b[0;32m---> 89\u001b[0m     \u001b[39mreturn\u001b[39;00m \u001b[39mself\u001b[39;49m\u001b[39m.\u001b[39;49m_execute(Command\u001b[39m.\u001b[39;49mGET_ELEMENT_TEXT)[\u001b[39m\"\u001b[39m\u001b[39mvalue\u001b[39m\u001b[39m\"\u001b[39m]\n",
      "File \u001b[0;32m~/.local/lib/python3.10/site-packages/selenium/webdriver/remote/webelement.py:394\u001b[0m, in \u001b[0;36mWebElement._execute\u001b[0;34m(self, command, params)\u001b[0m\n\u001b[1;32m    392\u001b[0m     params \u001b[39m=\u001b[39m {}\n\u001b[1;32m    393\u001b[0m params[\u001b[39m\"\u001b[39m\u001b[39mid\u001b[39m\u001b[39m\"\u001b[39m] \u001b[39m=\u001b[39m \u001b[39mself\u001b[39m\u001b[39m.\u001b[39m_id\n\u001b[0;32m--> 394\u001b[0m \u001b[39mreturn\u001b[39;00m \u001b[39mself\u001b[39;49m\u001b[39m.\u001b[39;49m_parent\u001b[39m.\u001b[39;49mexecute(command, params)\n",
      "File \u001b[0;32m~/.local/lib/python3.10/site-packages/selenium/webdriver/remote/webdriver.py:344\u001b[0m, in \u001b[0;36mWebDriver.execute\u001b[0;34m(self, driver_command, params)\u001b[0m\n\u001b[1;32m    342\u001b[0m response \u001b[39m=\u001b[39m \u001b[39mself\u001b[39m\u001b[39m.\u001b[39mcommand_executor\u001b[39m.\u001b[39mexecute(driver_command, params)\n\u001b[1;32m    343\u001b[0m \u001b[39mif\u001b[39;00m response:\n\u001b[0;32m--> 344\u001b[0m     \u001b[39mself\u001b[39;49m\u001b[39m.\u001b[39;49merror_handler\u001b[39m.\u001b[39;49mcheck_response(response)\n\u001b[1;32m    345\u001b[0m     response[\u001b[39m\"\u001b[39m\u001b[39mvalue\u001b[39m\u001b[39m\"\u001b[39m] \u001b[39m=\u001b[39m \u001b[39mself\u001b[39m\u001b[39m.\u001b[39m_unwrap_value(response\u001b[39m.\u001b[39mget(\u001b[39m\"\u001b[39m\u001b[39mvalue\u001b[39m\u001b[39m\"\u001b[39m, \u001b[39mNone\u001b[39;00m))\n\u001b[1;32m    346\u001b[0m     \u001b[39mreturn\u001b[39;00m response\n",
      "File \u001b[0;32m~/.local/lib/python3.10/site-packages/selenium/webdriver/remote/errorhandler.py:229\u001b[0m, in \u001b[0;36mErrorHandler.check_response\u001b[0;34m(self, response)\u001b[0m\n\u001b[1;32m    227\u001b[0m         alert_text \u001b[39m=\u001b[39m value[\u001b[39m\"\u001b[39m\u001b[39malert\u001b[39m\u001b[39m\"\u001b[39m]\u001b[39m.\u001b[39mget(\u001b[39m\"\u001b[39m\u001b[39mtext\u001b[39m\u001b[39m\"\u001b[39m)\n\u001b[1;32m    228\u001b[0m     \u001b[39mraise\u001b[39;00m exception_class(message, screen, stacktrace, alert_text)  \u001b[39m# type: ignore[call-arg]  # mypy is not smart enough here\u001b[39;00m\n\u001b[0;32m--> 229\u001b[0m \u001b[39mraise\u001b[39;00m exception_class(message, screen, stacktrace)\n",
      "\u001b[0;31mStaleElementReferenceException\u001b[0m: Message: stale element reference: stale element not found\n  (Session info: chrome=117.0.5938.149); For documentation on this error, please visit: https://www.selenium.dev/documentation/webdriver/troubleshooting/errors#stale-element-reference-exception\nStacktrace:\n#0 0x55c1f2ebd933 <unknown>\n#1 0x55c1f2b976f7 <unknown>\n#2 0x55c1f2ba5419 <unknown>\n#3 0x55c1f2b9cb54 <unknown>\n#4 0x55c1f2b9b76b <unknown>\n#5 0x55c1f2b9ded0 <unknown>\n#6 0x55c1f2b9df8c <unknown>\n#7 0x55c1f2bd9452 <unknown>\n#8 0x55c1f2c00602 <unknown>\n#9 0x55c1f2bd4446 <unknown>\n#10 0x55c1f2c007ce <unknown>\n#11 0x55c1f2c19857 <unknown>\n#12 0x55c1f2c003d3 <unknown>\n#13 0x55c1f2bd2e64 <unknown>\n#14 0x55c1f2bd3c4e <unknown>\n#15 0x55c1f2e83558 <unknown>\n#16 0x55c1f2e874a0 <unknown>\n#17 0x55c1f2e9197c <unknown>\n#18 0x55c1f2e880b8 <unknown>\n#19 0x55c1f2e53cdf <unknown>\n#20 0x55c1f2eac048 <unknown>\n#21 0x55c1f2eac219 <unknown>\n#22 0x55c1f2ebcac3 <unknown>\n#23 0x7fbe50ca2ac3 <unknown>\n"
     ]
    }
   ],
   "source": [
    "# Clicks the cookie 5000x\n",
    "for i in range(5000):\n",
    "\n",
    "    # Executes actions\n",
    "    # Click the Cookie! (see beginning for declaration of \"action\")\n",
    "    actions.click(cookie)\n",
    "    actions.perform()\n",
    "\n",
    "    # Finds number of cookies, and\n",
    "    # splits by [space] and accesses the first value after.\n",
    "    # Ex: 24 cookies\n",
    "    count = cookie_count.text.split(\" \")[0]\n",
    "    \n",
    "    # upgrades\n",
    "    for item in items:\n",
    "        value = int(item.text)\n",
    "        if value <= int(count):\n",
    "\n",
    "            # TODO: Create an ActionChains called upgrade_actions (also remove quotations)\n",
    "            upgrade_actions = \" CreateYourOwn_ActionChain \"\n",
    "\n",
    "            # TODO: Define a set of actions using upgrade_actions.\n",
    "            # These actions include a series of  \"going to/moving to the item\", \"clicking the item\", and \"a call to perform all of those actions\"\n",
    "            # There are multiple ways to do this using 3 lines or less.\n",
    "            # For information, check out the ActionChains documentation and look above."
   ]
  },
  {
   "cell_type": "code",
   "execution_count": null,
   "metadata": {},
   "outputs": [],
   "source": [
    "# TERMINATE THE PROCESS\n",
    "# Don't run this with the rest of the code\n",
    "\n",
    "# driver.quit()"
   ]
  }
 ],
 "metadata": {
  "kernelspec": {
   "display_name": "Python 3",
   "language": "python",
   "name": "python3"
  },
  "language_info": {
   "codemirror_mode": {
    "name": "ipython",
    "version": 3
   },
   "file_extension": ".py",
   "mimetype": "text/x-python",
   "name": "python",
   "nbconvert_exporter": "python",
   "pygments_lexer": "ipython3",
   "version": "3.10.12"
  }
 },
 "nbformat": 4,
 "nbformat_minor": 2
}
