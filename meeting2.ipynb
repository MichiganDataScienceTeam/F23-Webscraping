{
 "cells": [
  {
   "cell_type": "markdown",
   "metadata": {},
   "source": [
    "# Practicing Webscraping\n",
    "\n",
    "Last week we got a basic taste of webscraping. This week we will be applying that knowledge to a few more websites.  \n",
    "The data we will collect will be put into a pandas dataframe  \n",
    "\n",
    "Helpful link:  \n",
    "https://medium.com/geekculture/web-scraping-tables-in-python-using-beautiful-soup-8bbc31c5803e"
   ]
  },
  {
   "cell_type": "markdown",
   "metadata": {},
   "source": [
    "## Website 1: Olympic Medal Statistics  \n",
    "\n",
    "Scrape just the first table, and just the Combined total medals section.  "
   ]
  },
  {
   "cell_type": "code",
   "execution_count": null,
   "metadata": {},
   "outputs": [],
   "source": [
    "import pandas as pd\n",
    "import numpy as np\n",
    "from bs4 import BeautifulSoup\n",
    "import requests\n",
    "\n",
    "def getSoup(url: str) -> BeautifulSoup:\n",
    "    page = requests.get(url)\n",
    "    bs = BeautifulSoup(page.content, \"html.parser\")\n",
    "    page.close()\n",
    "    \n",
    "    return bs"
   ]
  },
  {
   "cell_type": "code",
   "execution_count": null,
   "metadata": {},
   "outputs": [],
   "source": [
    "\n",
    "url = \"https://en.wikipedia.org/wiki/All-time_Olympic_Games_medal_table\"\n",
    "\n",
    "wiki_page = getSoup(url)\n",
    "\n",
    "#edit\n",
    "\n"
   ]
  }
 ],
 "metadata": {
  "language_info": {
   "name": "python"
  },
  "orig_nbformat": 4
 },
 "nbformat": 4,
 "nbformat_minor": 2
}
