{
 "cells": [
  {
   "cell_type": "code",
   "execution_count": 5,
   "metadata": {},
   "outputs": [
    {
     "name": "stdout",
     "output_type": "stream",
     "text": [
      " CloudBytes/dev>: Programming on Steroids | Code snippets, lessons, tutorials, and more. \n"
     ]
    }
   ],
   "source": [
    "\"\"\"\n",
    "# Filename: run_selenium.py\n",
    "\"\"\"\n",
    "\n",
    "## Run selenium and chrome driver to scrape data from cloudbytes.dev\n",
    "import time\n",
    "import os.path\n",
    "from selenium import webdriver\n",
    "from selenium.webdriver.chrome.service import Service\n",
    "from selenium.webdriver.common.by import By\n",
    "from selenium.webdriver.chrome.options import Options\n",
    "\n",
    "## Setup chrome options\n",
    "chrome_options = Options()\n",
    "chrome_options.add_argument(\"--headless\") # Ensure GUI is off\n",
    "chrome_options.add_argument(\"--no-sandbox\")\n",
    "\n",
    "# Set path to chromedriver as per your configuration\n",
    "homedir = os.path.expanduser(\"~\")\n",
    "webdriver_service = Service(f\"{homedir}/chromedriver/stable/chromedriver\")\n",
    "\n",
    "# Choose Chrome Browser\n",
    "browser = webdriver.Chrome() ## insert path to webdriver (alternatively, you could add the path to chromedriver.exe in your PATH environment variable)\n",
    "\n",
    "# Get page\n",
    "browser.get(\"https://cloudbytes.dev\")\n",
    "\n",
    "# Extract description from page and print\n",
    "description = browser.find_element(By.NAME, \"description\").get_attribute(\"content\")\n",
    "print(f\"{description}\")\n",
    "\n",
    "#Wait for 10 seconds\n",
    "time.sleep(10)\n",
    "browser.quit()"
   ]
  }
 ],
 "metadata": {
  "kernelspec": {
   "display_name": "venv",
   "language": "python",
   "name": "python3"
  },
  "language_info": {
   "codemirror_mode": {
    "name": "ipython",
    "version": 3
   },
   "file_extension": ".py",
   "mimetype": "text/x-python",
   "name": "python",
   "nbconvert_exporter": "python",
   "pygments_lexer": "ipython3",
   "version": "3.10.12"
  },
  "orig_nbformat": 4
 },
 "nbformat": 4,
 "nbformat_minor": 2
}
