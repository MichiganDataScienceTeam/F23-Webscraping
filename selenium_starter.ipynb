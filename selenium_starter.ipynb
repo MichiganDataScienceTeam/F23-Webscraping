{
 "cells": [
  {
   "cell_type": "code",
   "execution_count": 15,
   "metadata": {},
   "outputs": [],
   "source": [
    "import time\n",
    "from selenium import webdriver\n",
    "from selenium.webdriver.chrome.service import Service\n",
    "from selenium.webdriver.common.by import By\n",
    "from selenium.webdriver.support.wait import WebDriverWait\n",
    "from selenium.webdriver.chrome.options import Options\n",
    "\n",
    "\n",
    "service = webdriver.chrome.service.Service()\n",
    "\n",
    "# if you want to get fancy with the options\n",
    "# here the the ChromeOptions documentation: https://chromedriver.chromium.org/capabilities#h.p_ID_102\n",
    "# here is the list of Chrome arguments: https://peter.sh/experiments/chromium-command-line-switches/\n",
    "# there are a lot...\n",
    "options = webdriver.ChromeOptions()\n"
   ]
  },
  {
   "cell_type": "code",
   "execution_count": 16,
   "metadata": {},
   "outputs": [
    {
     "data": {
      "text/plain": [
       "<selenium.webdriver.support.wait.WebDriverWait (session=\"39334b400f712c4b66c71ddc233479e7\")>"
      ]
     },
     "execution_count": 16,
     "metadata": {},
     "output_type": "execute_result"
    }
   ],
   "source": [
    "# driver = webdriver.Chrome('/usr/local/bin/chromedriver')\n",
    "# driver = webdriver.Chrome('/usr/local/bin/chromedriver', options=chrome_options)\n",
    "driver = webdriver.Chrome(service=service, options=options)\n",
    "\n",
    "driver.get('https://www.linkedin.com/')\n",
    "WebDriverWait(driver, timeout=30)\n",
    "\n",
    "# if this didn't work, may need to follow tutorial:\n",
    "# for Windows: https://cloudbytes.dev/snippets/run-selenium-and-chrome-on-wsl2#step-2-install-latest-chrome-for-linux\n",
    "# for Mac: https://github.com/MichiganDataScienceTeam/W23-Webscraping/blob/main/meetings/meeting_selenium.MD"
   ]
  },
  {
   "cell_type": "code",
   "execution_count": 17,
   "metadata": {},
   "outputs": [],
   "source": [
    "driver.close()  # comment out if you want to keep it open\n",
    "driver.quit() # also does the same thing"
   ]
  }
 ],
 "metadata": {
  "kernelspec": {
   "display_name": "venv",
   "language": "python",
   "name": "python3"
  },
  "language_info": {
   "codemirror_mode": {
    "name": "ipython",
    "version": 3
   },
   "file_extension": ".py",
   "mimetype": "text/x-python",
   "name": "python",
   "nbconvert_exporter": "python",
   "pygments_lexer": "ipython3",
   "version": "3.10.6"
  },
  "orig_nbformat": 4
 },
 "nbformat": 4,
 "nbformat_minor": 2
}
