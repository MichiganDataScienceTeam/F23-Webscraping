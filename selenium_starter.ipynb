{
 "cells": [
  {
   "cell_type": "code",
   "execution_count": 18,
   "metadata": {},
   "outputs": [],
   "source": [
    "import time\n",
    "from selenium import webdriver\n",
    "from selenium.webdriver.chrome.service import Service\n",
    "from selenium.webdriver.common.by import By\n",
    "from selenium.webdriver.support.wait import WebDriverWait\n",
    "from selenium.webdriver.chrome.options import Options\n",
    "\n",
    "\n",
    "service = Service()\n",
    "\n",
    "# if you want to get fancy with the options\n",
    "# here the the ChromeOptions documentation: https://chromedriver.chromium.org/capabilities#h.p_ID_102\n",
    "# here is the list of Chrome arguments: https://peter.sh/experiments/chromium-command-line-switches/\n",
    "# there are a lot...\n",
    "chrome_options = webdriver.ChromeOptions()\n",
    "chrome_options.add_experimental_option(\"detach\", True) # this keeps the window open post execution/errors/ changing frames (explained later)\n",
    "\n",
    "prefs = {\"download.default_directory\": '/Users/justinpaul/Downloads',  # note need to change this\n",
    "         \"directory_upgrade\": True}\n",
    "chrome_options.add_experimental_option(\"prefs\", prefs)\n"
   ]
  },
  {
   "cell_type": "code",
   "execution_count": 19,
   "metadata": {},
   "outputs": [
    {
     "data": {
      "text/plain": [
       "<selenium.webdriver.support.wait.WebDriverWait (session=\"e55e7b01d436424c80cdf1e02ffb787d\")>"
      ]
     },
     "execution_count": 19,
     "metadata": {},
     "output_type": "execute_result"
    }
   ],
   "source": [
    "# driver = webdriver.Chrome('/usr/local/bin/chromedriver')\n",
    "# driver = webdriver.Chrome('/usr/local/bin/chromedriver', options=chrome_options)\n",
    "driver = webdriver.Chrome(service=service, options=chrome_options)\n",
    "\n",
    "driver.get('https://www.linkedin.com/')\n",
    "WebDriverWait(driver, timeout=30)\n",
    "\n",
    "# if this didn't work, may need to follow tutorial:\n",
    "# for Windows: https://cloudbytes.dev/snippets/run-selenium-and-chrome-on-wsl2#:~:text=a)%20Change%20the%20working%20directory%20to%20the%20user%20home%20directory.",
    "# for Mac: https://github.com/MichiganDataScienceTeam/W23-Webscraping/blob/main/meetings/meeting_selenium.MD"
   ]
  },
  {
   "cell_type": "code",
   "execution_count": 17,
   "metadata": {},
   "outputs": [],
   "source": [
    "driver.close()  # comment out if you want to keep it open\n",
    "driver.quit() # also does the same thing"
   ]
  }
 ],
 "metadata": {
  "kernelspec": {
   "display_name": "venv",
   "language": "python",
   "name": "python3"
  },
  "language_info": {
   "codemirror_mode": {
    "name": "ipython",
    "version": 3
   },
   "file_extension": ".py",
   "mimetype": "text/x-python",
   "name": "python",
   "nbconvert_exporter": "python",
   "pygments_lexer": "ipython3",
   "version": "3.10.6"
  },
  "orig_nbformat": 4
 },
 "nbformat": 4,
 "nbformat_minor": 2
}
