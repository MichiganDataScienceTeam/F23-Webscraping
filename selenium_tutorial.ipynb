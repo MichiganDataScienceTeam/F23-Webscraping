{
 "cells": [
  {
   "cell_type": "code",
   "execution_count": 1,
   "metadata": {},
   "outputs": [],
   "source": [
    "import time\n",
    "from selenium import webdriver\n",
    "from selenium.webdriver.chrome.service import Service\n",
    "from selenium.webdriver.common.by import By\n",
    "from selenium.webdriver.support.wait import WebDriverWait\n",
    "from selenium.webdriver.chrome.options import Options"
   ]
  },
  {
   "cell_type": "code",
   "execution_count": 2,
   "metadata": {},
   "outputs": [],
   "source": [
    "service = Service()\n",
    "\n",
    "# if you want to get fancy with the options\n",
    "# here the the ChromeOptions documentation: https://chromedriver.chromium.org/capabilities#h.p_ID_102\n",
    "# here is the list of Chrome arguments: https://peter.sh/experiments/chromium-command-line-switches/\n",
    "# there are a lot...\n",
    "chrome_options = webdriver.ChromeOptions()\n",
    "chrome_options.add_experimental_option(\"detach\", True) # this keeps the window open post execution/errors/ changing frames (explained later)\n",
    "\n",
    "prefs = {\"download.default_directory\": '/Users/justinpaul/Downloads',  # note need to change this\n",
    "         \"directory_upgrade\": True}\n",
    "chrome_options.add_experimental_option(\"prefs\", prefs)"
   ]
  },
  {
   "cell_type": "code",
   "execution_count": 7,
   "metadata": {},
   "outputs": [
    {
     "data": {
      "text/plain": [
       "<selenium.webdriver.support.wait.WebDriverWait (session=\"abbc8db8ece6cd2867f70b668810aaca\")>"
      ]
     },
     "execution_count": 7,
     "metadata": {},
     "output_type": "execute_result"
    }
   ],
   "source": [
    "# driver = webdriver.Chrome('/usr/local/bin/chromedriver')\n",
    "# driver = webdriver.Chrome('/usr/local/bin/chromedriver', options=chrome_options)\n",
    "driver = webdriver.Chrome(service=service, options=chrome_options)\n",
    "\n",
    "driver.get('https://quotes.toscrape.com')\n",
    "WebDriverWait(driver, timeout=30)\n",
    "\n",
    "# if this didn't work, may need to follow tutorial:\n",
    "# for Windows: https://cloudbytes.dev/snippets/run-selenium-and-chrome-on-wsl2#step-2-install-latest-chrome-for-linux\n",
    "# for Mac: https://github.com/MichiganDataScienceTeam/W23-Webscraping/blob/main/meetings/meeting_selenium.MD"
   ]
  },
  {
   "cell_type": "markdown",
   "metadata": {},
   "source": [
    "### Basic Tutorial on Quotes.toscrape website  \n",
    "\n",
    "https://www.selenium.dev/documentation/webdriver/getting_started/first_script/"
   ]
  },
  {
   "cell_type": "code",
   "execution_count": 8,
   "metadata": {},
   "outputs": [
    {
     "name": "stdout",
     "output_type": "stream",
     "text": [
      "title of site: Quotes to Scrape\n",
      "initial cookies: []\n",
      "cookies: [{'domain': 'quotes.toscrape.com', 'httpOnly': False, 'name': 'Coolcookie', 'path': '/', 'secure': True, 'value': 'yum'}]\n"
     ]
    }
   ],
   "source": [
    "print(f'title of site: {driver.title}')\n",
    "\n",
    "# you can also access and set cookies\n",
    "print(f'initial cookies: {driver.get_cookies()}')\n",
    "cookie = {'name' : 'Coolcookie', 'value' : 'yum'}\n",
    "driver.add_cookie(cookie)\n",
    "print(f'cookies: {driver.get_cookies()}')"
   ]
  },
  {
   "cell_type": "markdown",
   "metadata": {},
   "source": [
    "### Task 1: Find and Click the \"Login\" Link  \n",
    "\n",
    "It should navigate you to the Login page"
   ]
  },
  {
   "cell_type": "code",
   "execution_count": null,
   "metadata": {},
   "outputs": [],
   "source": [
    "# Task 1"
   ]
  },
  {
   "cell_type": "markdown",
   "metadata": {},
   "source": [
    "### Task 2: Log in to the site  \n",
    "\n",
    "The website does not require an actual account, and user/pass combo will successfully log you in."
   ]
  },
  {
   "cell_type": "code",
   "execution_count": null,
   "metadata": {},
   "outputs": [],
   "source": [
    "# Task 2"
   ]
  },
  {
   "cell_type": "code",
   "execution_count": 5,
   "metadata": {},
   "outputs": [],
   "source": [
    "driver.quit()"
   ]
  }
 ],
 "metadata": {
  "kernelspec": {
   "display_name": "venv",
   "language": "python",
   "name": "python3"
  },
  "language_info": {
   "codemirror_mode": {
    "name": "ipython",
    "version": 3
   },
   "file_extension": ".py",
   "mimetype": "text/x-python",
   "name": "python",
   "nbconvert_exporter": "python",
   "pygments_lexer": "ipython3",
   "version": "3.10.6"
  },
  "orig_nbformat": 4
 },
 "nbformat": 4,
 "nbformat_minor": 2
}
